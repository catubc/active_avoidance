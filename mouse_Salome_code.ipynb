{
 "cells": [
  {
   "cell_type": "markdown",
   "id": "a9612993-58fb-429f-84cf-0b0c6339bbff",
   "metadata": {},
   "source": [
    "## General setup"
   ]
  },
  {
   "cell_type": "code",
   "execution_count": 1,
   "id": "e27b0df5",
   "metadata": {},
   "outputs": [
    {
     "data": {
      "application/javascript": "IPython.notebook.set_autosave_interval(180000)"
     },
     "metadata": {},
     "output_type": "display_data"
    },
    {
     "name": "stdout",
     "output_type": "stream",
     "text": [
      "Autosaving every 180 seconds\n"
     ]
    },
    {
     "name": "stderr",
     "output_type": "stream",
     "text": [
      "2023-10-30 14:54:31.171157: W tensorflow/stream_executor/platform/default/dso_loader.cc:64] Could not load dynamic library 'libcudart.so.11.0'; dlerror: libcudart.so.11.0: cannot open shared object file: No such file or directory; LD_LIBRARY_PATH: /home/cat/.conda/envs/aa/lib/python3.8/site-packages/cv2/../../lib64:\n",
      "2023-10-30 14:54:31.171185: I tensorflow/stream_executor/cuda/cudart_stub.cc:29] Ignore above cudart dlerror if you do not have a GPU set up on your machine.\n"
     ]
    }
   ],
   "source": [
    "%matplotlib tk\n",
    "%autosave 180\n",
    "%load_ext autoreload\n",
    "%autoreload 2\n",
    "\n",
    "import numpy as np\n",
    "from utils import AA\n",
    "\n",
    "import sleap\n",
    "\n",
    "\n"
   ]
  },
  {
   "cell_type": "code",
   "execution_count": 11,
   "id": "7acb2d01-b134-42c5-af4f-627256f3bbc7",
   "metadata": {},
   "outputs": [],
   "source": [
    "###############################################\n",
    "################# LOAD DATA ###################\n",
    "###############################################\n",
    "fname = '/media/cat/4TB/donato/Salome/Slp_mouse_model/results/labels.v001.mouse.006_Trial     3.analysis.h5'\n",
    "fname = '/media/cat/4TB/donato/Salome/All_Maria_vids/20230807_AA_d1-S2_GCaMP_DON-015506-12/Media_Files/Trial     1.mp4.predictions.h5'\n",
    "#\n",
    "aa = AA(fname)\n",
    "\n",
    "#\n",
    "aa.load_csv()\n",
    "\n",
    "#\n",
    "aa.plot_track()\n"
   ]
  },
  {
   "cell_type": "code",
   "execution_count": 3,
   "id": "cfbd5793-8fa5-4b19-ae2b-5556c6ed9b84",
   "metadata": {},
   "outputs": [
    {
     "name": "stdout",
     "output_type": "stream",
     "text": [
      "Sector 1 =  2225\n",
      "Sector 2 = 1500\n",
      "Sector 3 = 1728\n",
      "Sector 4 = 2614\n",
      "Sector 5 = 2881\n",
      "Sector 6 = 4092\n",
      "INFO:matplotlib.category:Using categorical units to plot a list of strings that are all parsable as floats or dates. If these strings should be plotted as numbers, cast to the appropriate data type before plotting.\n",
      "INFO:matplotlib.category:Using categorical units to plot a list of strings that are all parsable as floats or dates. If these strings should be plotted as numbers, cast to the appropriate data type before plotting.\n"
     ]
    }
   ],
   "source": [
    "###############################################\n",
    "########### COMPUTE SECTOR OCCUPANCY  #########\n",
    "###############################################\n",
    "\n",
    "aa.compute_sector_occupancy()"
   ]
  },
  {
   "cell_type": "code",
   "execution_count": 16,
   "id": "ff556792",
   "metadata": {},
   "outputs": [
    {
     "name": "stdout",
     "output_type": "stream",
     "text": [
      "... done converting files.\n"
     ]
    }
   ],
   "source": [
    "import os\n",
    "\n",
    "#\n",
    "dirs = [\n",
    "'/media/cat/4TB/donato/Salome/All_Maria_vids/20230807_AA_d1-S2_GCaMP_DON-015506-12',\n",
    "'/media/cat/4TB/donato/Salome/All_Maria_vids/20230808_AA_d2-S2_GCaMP_DON-015506-12',\n",
    "'/media/cat/4TB/donato/Salome/All_Maria_vids/20230809_AA_d3-S2_GCaMP_DON-015506-12',\n",
    "'/media/cat/4TB/donato/Salome/All_Maria_vids/20230810_AA_d4-S2_GCaMP_DON-015506-12',\n",
    "'/media/cat/4TB/donato/Salome/All_Maria_vids/20230811_AA_d5-S2_GCaMP_DON-015506-12',\n",
    "'/media/cat/4TB/donato/Salome/All_Maria_vids/20230814_AA_d6-S5_GCaMP_DON-015506-12',\n",
    "'/media/cat/4TB/donato/Salome/All_Maria_vids/20230815_AA_d7-S5_GCaMP_DON-015506-12',\n",
    "'/media/cat/4TB/donato/Salome/All_Maria_vids/20230816_AA_d8-S5_GCaMP_DON-015506-12',\n",
    "'/media/cat/4TB/donato/Salome/All_Maria_vids/20230817_AA_d9-S5_GCaMP_DON-015506-12',\n",
    "'/media/cat/4TB/donato/Salome/All_Maria_vids/20230818_AA_d10-S5_GCaMP_DON-015506-12',\n",
    "'/media/cat/4TB/donato/Salome/All_Maria_vids/20230825_AA_d11-probe_GCaMP_DON-015506-12'\n",
    "]\n",
    "\n",
    "for root_dir in dirs:\n",
    "    #root_dir = os.path.join(dirs[],'Media_Files')\n",
    "\n",
    "    #\n",
    "    for a in range(1,6,1):\n",
    "        fname = os.path.join(root_dir, \n",
    "                             \"Media_Files\",\n",
    "                            'Trial     '+str(a)+\n",
    "                            '.mp4.predictions.slp')\n",
    "        \n",
    "        if os.path.exists(fname)==False:\n",
    "           # print (\"File not found: \", fname)\n",
    "            continue\n",
    "\n",
    "\n",
    "        fname_out = fname[:-4]+'.h5'\n",
    "\n",
    "        if os.path.exists(fname_out):\n",
    "            #print (\"File already converted: \", fname_out)\n",
    "            continue\n",
    "\n",
    "        # convert the .slp to .npy\n",
    "        print (\"Converting: \", fname)\n",
    "        d = sleap.load_file(fname)\n",
    "\n",
    "        d.export(fname[:-4]+'.h5')\n",
    "        \n",
    "print (\"... done converting files.\")"
   ]
  },
  {
   "cell_type": "code",
   "execution_count": 18,
   "id": "72c2d9c3",
   "metadata": {},
   "outputs": [
    {
     "name": "stdout",
     "output_type": "stream",
     "text": [
      "Sector 1 =  899\n",
      "Sector 2 = 1545\n",
      "Sector 3 = 4775\n",
      "Sector 4 = 3814\n",
      "Sector 5 = 2056\n",
      "Sector 6 = 1908\n",
      "INFO:matplotlib.category:Using categorical units to plot a list of strings that are all parsable as floats or dates. If these strings should be plotted as numbers, cast to the appropriate data type before plotting.\n",
      "INFO:matplotlib.category:Using categorical units to plot a list of strings that are all parsable as floats or dates. If these strings should be plotted as numbers, cast to the appropriate data type before plotting.\n"
     ]
    }
   ],
   "source": [
    "\n",
    "\n",
    "#\n",
    "for root_dir in dirs:\n",
    "\n",
    "    #\n",
    "    for a in range(1,6,1):\n",
    "        fname = os.path.join(root_dir, \n",
    "                             \"Media_Files\",\n",
    "                            'Trial     '+str(a)+\n",
    "                            '.mp4.predictions.h5')\n",
    "        \n",
    "        aa = AA(fname)\n",
    "\n",
    "        #\n",
    "        aa.load_csv()\n",
    "\n",
    "        #\n",
    "        #aa.plot_track()\n",
    "\n",
    "        #\n",
    "        data = aa.compute_sector_occupancy()\n",
    "\n",
    "        #\n",
    "        break\n",
    "    break"
   ]
  },
  {
   "cell_type": "code",
   "execution_count": null,
   "id": "a3d982f4",
   "metadata": {},
   "outputs": [],
   "source": []
  }
 ],
 "metadata": {
  "kernelspec": {
   "display_name": "Python 3 (ipykernel)",
   "language": "python",
   "name": "python3"
  },
  "language_info": {
   "codemirror_mode": {
    "name": "ipython",
    "version": 3
   },
   "file_extension": ".py",
   "mimetype": "text/x-python",
   "name": "python",
   "nbconvert_exporter": "python",
   "pygments_lexer": "ipython3",
   "version": "3.8.18"
  }
 },
 "nbformat": 4,
 "nbformat_minor": 5
}
