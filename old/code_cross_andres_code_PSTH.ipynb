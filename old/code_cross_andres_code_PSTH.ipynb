{
 "cells": [
  {
   "cell_type": "markdown",
   "id": "b7c73bc4-3060-4003-bc12-d98292a6e457",
   "metadata": {},
   "source": [
    "## General Setup"
   ]
  },
  {
   "cell_type": "code",
   "execution_count": 2,
   "id": "7acb2d01-b134-42c5-af4f-627256f3bbc7",
   "metadata": {},
   "outputs": [
    {
     "name": "stdout",
     "output_type": "stream",
     "text": [
      "===filename===\n",
      "D:\train_SLEAP_simple\\labels.v001.000_DON011733-20230305.analysis.h5\n",
      "\n",
      "===HDF5 datasets===\n",
      "['edge_inds', 'edge_names', 'instance_scores', 'labels_path', 'node_names', 'point_scores', 'provenance', 'track_names', 'track_occupancy', 'tracking_scores', 'tracks', 'video_ind', 'video_path']\n",
      "\n",
      "===locations data shape===\n",
      "(15044, 4, 2, 1)\n",
      "\n",
      "===nodes===\n",
      "0: center\n",
      "1: front\n",
      "2: left\n",
      "3: right\n",
      "\n"
     ]
    }
   ],
   "source": [
    "import h5py\n",
    "import numpy as np\n",
    "\n",
    "with h5py.File(r\"D:\\Salome\\Slp_cross_model\\results\\labels.v001.cross.006_Trial     3.analysis.h5\", \"r\") as f:\n",
    "    dset_names = list(f.keys())\n",
    "    locations = f[\"tracks\"][:].T\n",
    "    node_names = [n.decode() for n in f[\"node_names\"][:]]\n",
    "\n",
    "print(\"===filename===\")\n",
    "print(\"D:\\train_SLEAP_simple\\labels.v001.000_DON011733-20230305.analysis.h5\")\n",
    "print()\n",
    "\n",
    "\n",
    "\n",
    "print(\"===HDF5 datasets===\")\n",
    "print(dset_names)\n",
    "print()\n",
    "\n",
    "print(\"===locations data shape===\")\n",
    "print(locations.shape)\n",
    "print()\n",
    "\n",
    "print(\"===nodes===\")\n",
    "for i, name in enumerate(node_names):\n",
    "    print(f\"{i}: {name}\")\n",
    "print()"
   ]
  },
  {
   "cell_type": "code",
   "execution_count": 3,
   "id": "24d47e74-8160-49fe-bdfc-959bb18381bf",
   "metadata": {},
   "outputs": [],
   "source": [
    "CENTER_INDEX = 0\n",
    "center_loc = locations[:, CENTER_INDEX, :, :]"
   ]
  },
  {
   "cell_type": "markdown",
   "id": "551e8a89-4eeb-432a-a111-e624e983af8a",
   "metadata": {},
   "source": [
    "### Find center and radius of circle"
   ]
  },
  {
   "cell_type": "code",
   "execution_count": 75,
   "id": "7b56d12a-0272-470f-8c62-03634b68706f",
   "metadata": {},
   "outputs": [
    {
     "name": "stdout",
     "output_type": "stream",
     "text": [
      "233.9093780517578 911.9408569335938 436.3338928222656 256.0670166015625 1095.9609375 728.2630310058594\n"
     ]
    }
   ],
   "source": [
    "# take three points on circle, are on circle, checked by plotting  \n",
    "\n",
    "x_1 = float(locations[100,1,0,0])\n",
    "y_1 = float(1200-locations[100,1,1,0])\n",
    "\n",
    "x_2 = float(locations[500,1,0,0])\n",
    "y_2 = float(1200-locations[500,1,1,0])\n",
    "\n",
    "x_3 = float(locations[1000,1,0,0])\n",
    "y_3 = float(1200-locations[1000,1,1,0])\n",
    "\n",
    "\n",
    "\n",
    "print (x_1, y_1, x_2, y_2, x_3, y_3)"
   ]
  },
  {
   "cell_type": "code",
   "execution_count": 76,
   "id": "101c8289-ee75-403a-be9a-97b904eeffdc",
   "metadata": {},
   "outputs": [
    {
     "name": "stdout",
     "output_type": "stream",
     "text": [
      "Centre = ( 635.0 ,  677.0 )\n",
      "Radius =  464.83426\n"
     ]
    }
   ],
   "source": [
    "#find center and radius of circle \n",
    "\n",
    "from math import sqrt\n",
    "\n",
    "# Function to find the circle on \n",
    "# which the given three points lie \n",
    "def findCircle(x1, y1, x2, y2, x3, y3) :\n",
    "\tx12 = x1 - x2; \n",
    "\tx13 = x1 - x3; \n",
    "\n",
    "\ty12 = y1 - y2; \n",
    "\ty13 = y1 - y3; \n",
    "\n",
    "\ty31 = y3 - y1; \n",
    "\ty21 = y2 - y1; \n",
    "\n",
    "\tx31 = x3 - x1; \n",
    "\tx21 = x2 - x1; \n",
    "\n",
    "\t# x1^2 - x3^2 \n",
    "\tsx13 = pow(x1, 2) - pow(x3, 2); \n",
    "\n",
    "\t# y1^2 - y3^2 \n",
    "\tsy13 = pow(y1, 2) - pow(y3, 2); \n",
    "\n",
    "\tsx21 = pow(x2, 2) - pow(x1, 2); \n",
    "\tsy21 = pow(y2, 2) - pow(y1, 2); \n",
    "\n",
    "\tf = (((sx13) * (x12) + (sy13) *\n",
    "\t\t(x12) + (sx21) * (x13) +\n",
    "\t\t(sy21) * (x13)) // (2 *\n",
    "\t\t((y31) * (x12) - (y21) * (x13))));\n",
    "\t\t\t\n",
    "\tg = (((sx13) * (y12) + (sy13) * (y12) +\n",
    "\t\t(sx21) * (y13) + (sy21) * (y13)) //\n",
    "\t\t(2 * ((x31) * (y12) - (x21) * (y13)))); \n",
    "\n",
    "\tc = (-pow(x1, 2) - pow(y1, 2) -\n",
    "\t\t2 * g * x1 - 2 * f * y1); \n",
    "\n",
    "\t# eqn of circle be x^2 + y^2 + 2*g*x + 2*f*y + c = 0 \n",
    "\t# where centre is (h = -g, k = -f) and \n",
    "\t# radius r as r^2 = h^2 + k^2 - c \n",
    "\th = -g; \n",
    "\tk = -f; \n",
    "\tsqr_of_r = h * h + k * k - c; \n",
    "\n",
    "\t# r is the radius \n",
    "\tr = round(sqrt(sqr_of_r), 5); \n",
    "\n",
    "\tprint(\"Centre = (\", h, \", \", k, \")\"); \n",
    "\tprint(\"Radius = \", r); \n",
    "\n",
    "\n",
    "# Driver code \n",
    "if __name__ == \"__main__\" : \n",
    "\t\n",
    "\tx1 = x_1 ; y1 = y_1; \n",
    "\tx2 = x_2 ; y2 = y_2; \n",
    "\tx3 = x_3 ; y3 = y_3; \n",
    "\tfindCircle(x1, y1, x2, y2, x3, y3); \n"
   ]
  },
  {
   "cell_type": "code",
   "execution_count": 4,
   "id": "da405d25-4461-43cf-8aff-9dfa1df07330",
   "metadata": {},
   "outputs": [],
   "source": [
    "center_x = 634.0 \n",
    "center_y = 677.0\n",
    "radius = 464.83426"
   ]
  },
  {
   "cell_type": "markdown",
   "id": "f2b5d2c4-5d39-4999-812f-ed64e0c4cf82",
   "metadata": {},
   "source": [
    "### Costruction and rotation of lines"
   ]
  },
  {
   "cell_type": "code",
   "execution_count": 85,
   "id": "156f67dd-e01e-4696-bd0b-03037d76eb6b",
   "metadata": {},
   "outputs": [
    {
     "name": "stdout",
     "output_type": "stream",
     "text": [
      "Line 1: y = -0.00x + 677.00\n",
      "Line 2: y = 1.73x + -421.12\n",
      "Line 3: y = -1.73x + 1775.12\n"
     ]
    }
   ],
   "source": [
    "#calculate three lines to separate the circle into six sectors\n",
    "\n",
    "import math\n",
    "\n",
    "# Circle parameters from above \n",
    "\n",
    "# Number of lines to divide the circle\n",
    "num_lines = 3\n",
    "\n",
    "# Calculate the angle between each line\n",
    "angle_increment = 2 * math.pi / num_lines\n",
    "\n",
    "# Calculate the equations of the lines\n",
    "for i in range(num_lines):\n",
    "    # Calculate the angle of the line\n",
    "    angle = i * angle_increment\n",
    "\n",
    "    # Calculate the slope of the line\n",
    "    if math.cos(angle) != 0:\n",
    "        slope = -math.sin(angle) / math.cos(angle)\n",
    "    else:\n",
    "        slope = float('inf')  # Vertical line\n",
    "\n",
    "    # Calculate the y-intercept of the line\n",
    "    y_intercept = center_y - slope * center_x\n",
    "\n",
    "    # Print the equation of the line\n",
    "    print(f\"Line {i + 1}: y = {slope:.2f}x + {y_intercept:.2f}\")\n"
   ]
  },
  {
   "cell_type": "code",
   "execution_count": 86,
   "id": "6671aa86-1d25-4a0c-bd8a-0fed461500a2",
   "metadata": {},
   "outputs": [],
   "source": [
    "#original line equations \n",
    "\n",
    "y1 = -0.00 * x + 677.00\n",
    "a1 = 0 \n",
    "b1 = 677.00\n",
    "\n",
    "y2 = 1.73 * x + -421.12\n",
    "a2 = 1.73\n",
    "b2 = -421.12\n",
    "\n",
    "y3 = -1.73 * x + 1775.12\n",
    "a3 = -1.73\n",
    "b3 = 1775.12"
   ]
  },
  {
   "cell_type": "code",
   "execution_count": 87,
   "id": "be603beb",
   "metadata": {},
   "outputs": [
    {
     "name": "stdout",
     "output_type": "stream",
     "text": [
      "Original line equation: y1 = 0x + 677.0\n",
      "Rotated line equation: y1 = 0.5773502691896384x + 310.9599293337763 (rotated around (634.0, 677.0))\n",
      "Original line equation: y1 = 1.73x + -421.12\n",
      "Rotated line equation: y1 = 1948.7191084394267x + -1236078.708004072 (rotated around (634.0, 677.0))\n",
      "Original line equation: y1 = -1.73x + 1775.12\n",
      "Rotated line equation: y1 = -0.5766662617226573x + 1043.3574098868085 (rotated around (634.0, 677.0))\n"
     ]
    }
   ],
   "source": [
    "#calculate rotated line equations \n",
    "#rotated bzy 30 degress around center \n",
    "\n",
    "\n",
    "import math\n",
    "\n",
    "\n",
    "# Point of rotation (x, y)\n",
    "rotation_point = (center_x, center_y)\n",
    "\n",
    "# Angle of rotation in degrees\n",
    "angle_degrees = 30\n",
    "\n",
    "\n",
    "# Original line equation parameters\n",
    "a = a2  # Example slope\n",
    "b = b2  # Example y-intercept\n",
    "\n",
    "angle_degrees = 30\n",
    "\n",
    "\n",
    "# Point of rotation (x, # Convert angle to radians\n",
    "angle_radians = math.radians(angle_degrees)\n",
    "\n",
    "# Define a function to rotate a point (x, y) around another point (ox, oy) by a given angle\n",
    "def rotate_point(x, y, ox, oy, angle):\n",
    "    new_x = ox + (x - ox) * math.cos(angle) - (y - oy) * math.sin(angle)\n",
    "    new_y = oy + (x - ox) * math.sin(angle) + (y - oy) * math.cos(angle)\n",
    "    return new_x, new_y\n",
    "\n",
    "\n",
    "# Original line equation parameters\n",
    "a = a1  # Example slope\n",
    "b = b1  # Example y-intercept\n",
    "\n",
    "# Calculate the coordinates of two points on the original line\n",
    "x1 = 0  # Choose a point on the original line\n",
    "y1 = a * x1 + b\n",
    "x2 = 1  # Choose another point on the original line\n",
    "y2 = a * x2 + b\n",
    "\n",
    "# Rotate both points around the specified point of rotation\n",
    "new_x1, new_y1 = rotate_point(x1, y1, rotation_point[0], rotation_point[1], angle_radians)\n",
    "new_x2, new_y2 = rotate_point(x2, y2, rotation_point[0], rotation_point[1], angle_radians)\n",
    "\n",
    "# Calculate the new slope and y-intercept of the rotated line\n",
    "new_a = (new_y2 - new_y1) / (new_x2 - new_x1)\n",
    "new_b = new_y1 - new_a * new_x1\n",
    "\n",
    "print(f\"Original line equation: y1 = {a}x + {b}\")\n",
    "print(f\"Rotated line equation: y1 = {new_a}x + {new_b} (rotated around {rotation_point})\")\n",
    "\n",
    "\n",
    "\n",
    "\n",
    "# Original line equation parameters\n",
    "a = a2  # Example slope\n",
    "b = b2  # Example y-intercept\n",
    "\n",
    "# Calculate the coordinates of two points on the original line\n",
    "x1 = 0  # Choose a point on the original line\n",
    "y1 = a * x1 + b\n",
    "x2 = 1  # Choose another point on the original line\n",
    "y2 = a * x2 + b\n",
    "\n",
    "# Rotate both points around the specified point of rotation\n",
    "new_x1, new_y1 = rotate_point(x1, y1, rotation_point[0], rotation_point[1], angle_radians)\n",
    "new_x2, new_y2 = rotate_point(x2, y2, rotation_point[0], rotation_point[1], angle_radians)\n",
    "\n",
    "# Calculate the new slope and y-intercept of the rotated line\n",
    "new_a = (new_y2 - new_y1) / (new_x2 - new_x1)\n",
    "new_b = new_y1 - new_a * new_x1\n",
    "\n",
    "print(f\"Original line equation: y2 = {a}x + {b}\")\n",
    "print(f\"Rotated line equation: y2 = {new_a}x + {new_b} (rotated around {rotation_point})\")\n",
    "\n",
    "\n",
    "\n",
    "# Original line equation parameters\n",
    "a = a3  # Example slope\n",
    "b = b3  # Example y-intercept\n",
    "\n",
    "# Calculate the coordinates of two points on the original line\n",
    "x1 = 0  # Choose a point on the original line\n",
    "y1 = a * x1 + b\n",
    "x2 = 1  # Choose another point on the original line\n",
    "y2 = a * x2 + b\n",
    "\n",
    "# Rotate both points around the specified point of rotation\n",
    "new_x1, new_y1 = rotate_point(x1, y1, rotation_point[0], rotation_point[1], angle_radians)\n",
    "new_x2, new_y2 = rotate_point(x2, y2, rotation_point[0], rotation_point[1], angle_radians)\n",
    "\n",
    "# Calculate the new slope and y-intercept of the rotated line\n",
    "new_a = (new_y2 - new_y1) / (new_x2 - new_x1)\n",
    "new_b = new_y1 - new_a * new_x1\n",
    "\n",
    "print(f\"Original line equation: y3 = {a}x + {b}\")\n",
    "print(f\"Rotated line equation: y3 = {new_a}x + {new_b} (rotated around {rotation_point})\")"
   ]
  },
  {
   "cell_type": "markdown",
   "id": "64c17b5c-9876-4002-9297-718d984134d2",
   "metadata": {},
   "source": [
    "### Plot of data and lines"
   ]
  },
  {
   "cell_type": "code",
   "execution_count": 8,
   "id": "dfa68892-f5b5-432c-9dea-62c03f696205",
   "metadata": {},
   "outputs": [
    {
     "data": {
      "image/png": "[encoded data removed]",
      "text/plain": [
       "<Figure size 1200x1000 with 1 Axes>"
      ]
     },
     "metadata": {},
     "output_type": "display_data"
    }
   ],
   "source": [
    "import matplotlib.pyplot as plt\n",
    "\n",
    "locations.shape\n",
    "plt.figure(figsize=(12,10))\n",
    "# plot each body part\n",
    "#for k in range(5):\n",
    "\t#\n",
    "for k in [1]:\n",
    "\tloc = locations[:,k,:,0]\n",
    "\t\n",
    "\t# bp has dimensions: (90000,2)\n",
    "\tplt.plot(loc[:,0],\n",
    "\t\t\t 1200-loc[:,1],\n",
    "\t\t\t )\n",
    "\t\t\t \n",
    "    \n",
    "\n",
    "\n",
    "x = np.linspace(0, 1200, 100)\n",
    "\n",
    "#original line equations \n",
    "y1 = -0.00 * x + 677.00\n",
    "y2 = 1.73 * x + -421.12\n",
    "y3 = -1.73 * x + 1775.12\n",
    "\n",
    "#rotated line equations\n",
    "y_test1 = 0.5773502691896384 * x + 310.9599293337763\n",
    "y_test2 = 1948.7191084394267 * x + -1236078.708004072  # as close to x = 634 as possible \n",
    "y_test3 = -0.5766662617226573 * x + 1043.3574098868085\n",
    "\n",
    "plt.plot(center_x, center_y, 'ro')\n",
    "plt.plot(635, 678, 'ro')\n",
    "#plt.plot(x, y1, 'black') \n",
    "#plt.plot(x, y2, 'black') \n",
    "#plt.plot(x, y3, 'black') \n",
    "plt.plot(x, y_test1, 'red') \n",
    "plt.plot(x, y_test2, 'red') \n",
    "plt.plot(x, y_test3, 'red') \n",
    "\n",
    "\n",
    "plt.gray()        \n",
    "plt.xlim(0, 1280)\n",
    "plt.ylim(150, 1174)\n",
    "plt.show()\n",
    "\n"
   ]
  },
  {
   "cell_type": "markdown",
   "id": "fcecd7cb-909e-4779-b3f4-d39f6f3cc110",
   "metadata": {},
   "source": [
    "### Which point is in which sector?"
   ]
  },
  {
   "cell_type": "code",
   "execution_count": 142,
   "id": "244ee7d2-58d8-4a0c-a6a1-b5a64af070d8",
   "metadata": {},
   "outputs": [
    {
     "name": "stdout",
     "output_type": "stream",
     "text": [
      "200 800\n",
      "5\n"
     ]
    }
   ],
   "source": [
    "#determine in which sector a point is \n",
    "#123456 clockwise, 1 is upper right sector\n",
    "\n",
    "#this window is for experiments \n",
    "\n",
    "# center_x = 634.0 \n",
    "# center_y = 677.0\n",
    "# radius = 464.83426\n",
    "\n",
    "x_m = 200\n",
    "y_m = 800\n",
    "\n",
    "print(x_m, y_m)\n",
    "\n",
    "y1 = 0.5773502691896384 * x_m + 310.9599293337763\n",
    "y2 = 1948.7191084394267 * x_m + -1236078.708004072  # as close to x = 634 as possible \n",
    "y3 = -0.5766662617226573 * x_m + 1043.3574098868085\n",
    "\n",
    "if x_m >= 634:\n",
    "    if y1 <= y_m:\n",
    "        print(1)\n",
    "    elif y3 <= y_m:\n",
    "        print(2)\n",
    "    else:\n",
    "        print(3)\n",
    "    \n",
    "else:\n",
    "    if y1 >= y_m:\n",
    "        print(4)\n",
    "    elif y3 >= y_m:\n",
    "        print(5)\n",
    "    else:\n",
    "        print(6)"
   ]
  },
  {
   "cell_type": "code",
   "execution_count": 90,
   "id": "5a814b0f-af8e-4c88-a1bd-3c4faf51be02",
   "metadata": {},
   "outputs": [
    {
     "name": "stdout",
     "output_type": "stream",
     "text": [
      "nan nan\n",
      "nan nan\n"
     ]
    }
   ],
   "source": [
    "#two times first nan nan \n",
    "\n",
    "print(locations[1040, 1, 0, 0], locations[1040, 1, 1, 0])\n",
    "\n",
    "print(locations[2545, 1, 0, 0], locations[2545, 1, 1, 0])\n"
   ]
  },
  {
   "cell_type": "code",
   "execution_count": 154,
   "id": "d3435cac-a7ed-497d-8c56-aabf74bbb0fe",
   "metadata": {},
   "outputs": [
    {
     "name": "stdout",
     "output_type": "stream",
     "text": [
      "Sector 1 =  2522\n",
      "Sector 2 = 2047\n",
      "Sector 3 = 2473\n",
      "Sector 4 = 2472\n",
      "Sector 5 = 2525\n",
      "Sector 6 = 2557\n"
     ]
    }
   ],
   "source": [
    "\n",
    "# Assuming 'locations' is a numpy array with shape (15044, 5, 2, 1)\n",
    "\n",
    "sector1 = 0 \n",
    "sector2 = 0 \n",
    "sector3 = 0 \n",
    "sector4 = 0 \n",
    "sector5 = 0 \n",
    "sector6 = 0\n",
    "\n",
    "for i in range (0, 15044):\n",
    "    x_m = locations[i, 1, 0, 0]\n",
    "    y_m = 1200-locations[i, 1, 1, 0]\n",
    "\n",
    "    y1 = 0.5773502691896384 * x_m + 310.9599293337763\n",
    "    y2 = 1948.7191084394267 * x_m + -1236078.708004072  # as close to x = 634 as possible \n",
    "    y3 = -0.5766662617226573 * x_m + 1043.3574098868085\n",
    "\n",
    "\n",
    "    if x_m >= 634:\n",
    "        if y1 <= y_m:\n",
    "            sector1 += 1\n",
    "        elif y3 <= y_m:\n",
    "            sector2 += 1 \n",
    "        else:\n",
    "            sector3 += 1\n",
    "    \n",
    "    elif x_m < 634:\n",
    "        if y1 >= y_m:\n",
    "            sector4 += 1\n",
    "        elif y3 >= y_m:\n",
    "            sector5 += 1\n",
    "        else:\n",
    "            sector6 += 1\n",
    "            \n",
    "    #print (sector1, sector2, sector3, sector4, sector5, sector6)\n",
    "    #print (x_m, y_m)\n",
    "    \n",
    "print(\"Sector 1 = \", sector1)\n",
    "print(\"Sector 2 =\", sector2)\n",
    "print(\"Sector 3 =\", sector3)\n",
    "print(\"Sector 4 =\", sector4)\n",
    "print(\"Sector 5 =\", sector5)\n",
    "print(\"Sector 6 =\", sector6)"
   ]
  },
  {
   "cell_type": "code",
   "execution_count": 160,
   "id": "b6bed944-29dd-48e4-979a-9858413b10ac",
   "metadata": {},
   "outputs": [
    {
     "name": "stdout",
     "output_type": "stream",
     "text": [
      "Sector 1 =  2522\n",
      "Sector 2 = 2047\n",
      "Sector 3 = 2473\n",
      "Sector 4 = 2472\n",
      "Sector 5 = 2525\n",
      "Sector 6 = 2557\n"
     ]
    }
   ],
   "source": [
    "\n",
    "# Assuming 'locations' is a numpy array with shape (15044, 5, 2, 1)\n",
    "\n",
    "sector1 = 0 \n",
    "sector2 = 0 \n",
    "sector3 = 0 \n",
    "sector4 = 0 \n",
    "sector5 = 0 \n",
    "sector6 = 0\n",
    "\n",
    "for i in range (0, 15044):\n",
    "    x_m = locations[i, 1, 0, 0]\n",
    "    y_m = 1200-locations[i, 1, 1, 0]\n",
    "\n",
    "    y1 = 0.5773502691896384 * x_m + 310.9599293337763\n",
    "    y2 = 1948.7191084394267 * x_m + -1236078.708004072  # as close to x = 634 as possible \n",
    "    x2 = (y_m + 1236078.708004072) / 1948.7191084394267\n",
    "    y3 = -0.5766662617226573 * x_m + 1043.3574098868085\n",
    "\n",
    "\n",
    "    if x_m >= 634:\n",
    "        if y1 <= y_m:\n",
    "            sector1 += 1\n",
    "        elif y3 <= y_m:\n",
    "            sector2 += 1 \n",
    "        else:\n",
    "            sector3 += 1\n",
    "    \n",
    "    elif x_m < 634:\n",
    "        if y1 >= y_m:\n",
    "            sector4 += 1\n",
    "        elif y3 >= y_m:\n",
    "            sector5 += 1\n",
    "        else:\n",
    "            sector6 += 1\n",
    "            \n",
    "    #print (sector1, sector2, sector3, sector4, sector5, sector6)\n",
    "    #print (x_m, y_m)\n",
    "    \n",
    "print(\"Sector 1 = \", sector1)\n",
    "print(\"Sector 2 =\", sector2)\n",
    "print(\"Sector 3 =\", sector3)\n",
    "print(\"Sector 4 =\", sector4)\n",
    "print(\"Sector 5 =\", sector5)\n",
    "print(\"Sector 6 =\", sector6)"
   ]
  },
  {
   "cell_type": "code",
   "execution_count": 161,
   "id": "172786fe-0016-4090-a976-de77b321b804",
   "metadata": {},
   "outputs": [
    {
     "name": "stdout",
     "output_type": "stream",
     "text": [
      "394.2929992675781 921.7932739257812\n",
      "376.0995788574219 136.1969451904297\n"
     ]
    }
   ],
   "source": [
    "print(locations[8000,1,0,0], locations[8000,1,1,0])\n",
    "\n",
    "print(locations[3000,1,0,0], locations[3000,1,1,0])"
   ]
  },
  {
   "cell_type": "markdown",
   "id": "49e72975-6154-4c07-ac24-8347325c4c45",
   "metadata": {},
   "source": [
    "### Bar chart of the results"
   ]
  },
  {
   "cell_type": "code",
   "execution_count": 162,
   "id": "b634c794-81bf-4101-ae9a-4743b628f84a",
   "metadata": {},
   "outputs": [
    {
     "data": {
      "image/png": "[encoded data removed]",
      "text/plain": [
       "<Figure size 640x480 with 1 Axes>"
      ]
     },
     "metadata": {},
     "output_type": "display_data"
    }
   ],
   "source": [
    "import matplotlib.pyplot as plt\n",
    "\n",
    "# numbers for each sector are defined abvove\n",
    "\n",
    "# Labels for the bars\n",
    "labels = ['1', '2', '3', ' 4', ' 5', ' 6']\n",
    "\n",
    "# Values for the bars\n",
    "data = [sector1, sector2, sector3, sector4, sector5, sector6]\n",
    "\n",
    "# Create a bar chart\n",
    "plt.bar(labels, data)\n",
    "\n",
    "# Add labels and title\n",
    "plt.xlabel('Sectors')\n",
    "plt.ylabel('Values')\n",
    "plt.title('Bar Chart Example')\n",
    "\n",
    "# Show the plot\n",
    "plt.show()\n"
   ]
  },
  {
   "cell_type": "markdown",
   "id": "2856b954-9a9b-4b4e-a563-d25cfd200fac",
   "metadata": {},
   "source": [
    "## Comment\n",
    "\n",
    "Still not perfect but good enough for now. Less frames for sector 2 detected due to thing hiding the cross. \n",
    "Sectors 1, 3, 4, 5, 6, probably not completly identical due to equations. Sectors 1 + 5 and 2 + 3 are almost identical. "
   ]
  }
 ],
 "metadata": {
  "kernelspec": {
   "display_name": "Python 3 (ipykernel)",
   "language": "python",
   "name": "python3"
  },
  "language_info": {
   "codemirror_mode": {
    "name": "ipython",
    "version": 3
   },
   "file_extension": ".py",
   "mimetype": "text/x-python",
   "name": "python",
   "nbconvert_exporter": "python",
   "pygments_lexer": "ipython3",
   "version": "3.8.15"
  }
 },
 "nbformat": 4,
 "nbformat_minor": 5
}
